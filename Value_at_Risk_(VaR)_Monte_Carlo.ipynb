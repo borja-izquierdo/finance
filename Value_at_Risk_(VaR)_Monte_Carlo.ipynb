{
  "nbformat": 4,
  "nbformat_minor": 0,
  "metadata": {
    "colab": {
      "provenance": [],
      "authorship_tag": "ABX9TyO4j+fky6jN+7Mz792I0G/+",
      "include_colab_link": true
    },
    "kernelspec": {
      "name": "python3",
      "display_name": "Python 3"
    },
    "language_info": {
      "name": "python"
    }
  },
  "cells": [
    {
      "cell_type": "markdown",
      "metadata": {
        "id": "view-in-github",
        "colab_type": "text"
      },
      "source": [
        "<a href=\"https://colab.research.google.com/github/borja-izquierdo/portfolio/blob/main/Value_at_Risk_(VaR)_Monte_Carlo.ipynb\" target=\"_parent\"><img src=\"https://colab.research.google.com/assets/colab-badge.svg\" alt=\"Open In Colab\"/></a>"
      ]
    },
    {
      "cell_type": "markdown",
      "source": [
        "## Import necessary libraries"
      ],
      "metadata": {
        "id": "02btMsEr7o7Y"
      }
    },
    {
      "cell_type": "code",
      "execution_count": 15,
      "metadata": {
        "id": "qXbZiE3fqxBQ"
      },
      "outputs": [],
      "source": [
        "import yfinance as yf\n",
        "import numpy as np\n",
        "import pandas as pd\n",
        "import datetime as dt\n",
        "import matplotlib.pyplot as plt\n",
        "from scipy.stats import norm"
      ]
    },
    {
      "cell_type": "markdown",
      "source": [
        "## Set time from to a certain numbers of years"
      ],
      "metadata": {
        "id": "2dxohxPS7u1w"
      }
    },
    {
      "cell_type": "code",
      "source": [
        "years = 15\n",
        "\n",
        "endDate = dt.datetime.now()\n",
        "startDate = endDate - dt.timedelta(days = 365*years)"
      ],
      "metadata": {
        "id": "lWQk0ElysWZM"
      },
      "execution_count": 16,
      "outputs": []
    },
    {
      "cell_type": "markdown",
      "source": [
        "## Create a list of tickers"
      ],
      "metadata": {
        "id": "arsmt9YX7zV0"
      }
    },
    {
      "cell_type": "code",
      "source": [
        "tickers = ['SPY','BND','GLD','QQQ','VTI']"
      ],
      "metadata": {
        "id": "9xR1aC7TsWXk"
      },
      "execution_count": 17,
      "outputs": []
    },
    {
      "cell_type": "markdown",
      "source": [
        "## Download the daily adjusted close prices for the tickers"
      ],
      "metadata": {
        "id": "UFySRpQs74VD"
      }
    },
    {
      "cell_type": "code",
      "source": [
        "adj_close_df = pd.DataFrame()\n",
        "\n",
        "for ticker in tickers:\n",
        "  data = yf.download(ticker, start = startDate, end = endDate)\n",
        "  adj_close_df[ticker] = data['Adj Close']\n",
        "\n",
        "print(adj_close_df)"
      ],
      "metadata": {
        "colab": {
          "base_uri": "https://localhost:8080/"
        },
        "id": "s6bhB4XXtQum",
        "outputId": "7385ca2d-07bb-4048-c109-30b2063095f2"
      },
      "execution_count": 18,
      "outputs": [
        {
          "output_type": "stream",
          "name": "stdout",
          "text": [
            "[*********************100%%**********************]  1 of 1 completed\n",
            "[*********************100%%**********************]  1 of 1 completed\n",
            "[*********************100%%**********************]  1 of 1 completed\n",
            "[*********************100%%**********************]  1 of 1 completed\n",
            "[*********************100%%**********************]  1 of 1 completed\n",
            "                   SPY        BND         GLD         QQQ         VTI\n",
            "Date                                                                 \n",
            "2008-11-17   63.965069  48.300018   72.650002   24.816864   31.666996\n",
            "2008-11-18   65.170021  48.332382   72.510002   24.790613   31.960897\n",
            "2008-11-19   60.993954  48.500664   72.260002   23.495979   30.024099\n",
            "2008-11-20   56.466179  48.461834   73.449997   22.358799   28.019493\n",
            "2008-11-21   59.512135  48.222343   78.849998   23.329782   29.609602\n",
            "...                ...        ...         ...         ...         ...\n",
            "2023-11-06  435.690002  69.500000  183.350006  369.209991  215.500000\n",
            "2023-11-07  436.929993  69.849998  182.589996  372.700012  216.139999\n",
            "2023-11-08  437.250000  70.070000  180.770004  372.940002  216.110001\n",
            "2023-11-09  433.839996  69.550003  181.490005  370.070007  214.270004\n",
            "2023-11-10  440.609985  69.680000  179.509995  378.390015  217.460007\n",
            "\n",
            "[3772 rows x 5 columns]\n"
          ]
        }
      ]
    },
    {
      "cell_type": "markdown",
      "source": [
        "## Calculate the daily log returns and drop any NAs"
      ],
      "metadata": {
        "id": "Sdg8FcIC79xc"
      }
    },
    {
      "cell_type": "code",
      "source": [
        "log_returns = np.log(adj_close_df/adj_close_df.shift(1))\n",
        "log_returns = log_returns.dropna()\n",
        "\n",
        "print(log_returns)"
      ],
      "metadata": {
        "colab": {
          "base_uri": "https://localhost:8080/"
        },
        "id": "Wfh6M5R-vRzq",
        "outputId": "abb56170-93c0-4be6-9b3d-fc205503462c"
      },
      "execution_count": 21,
      "outputs": [
        {
          "output_type": "stream",
          "name": "stdout",
          "text": [
            "                 SPY       BND       GLD       QQQ       VTI\n",
            "Date                                                        \n",
            "2008-11-18  0.018662  0.000670 -0.001929 -0.001058  0.009238\n",
            "2008-11-19 -0.066225  0.003476 -0.003454 -0.053636 -0.062513\n",
            "2008-11-20 -0.077133 -0.000801  0.016334 -0.049609 -0.069100\n",
            "2008-11-21  0.052538 -0.004954  0.070942  0.042511  0.055198\n",
            "2008-11-24  0.066996 -0.004305  0.025790  0.059322  0.057852\n",
            "...              ...       ...       ...       ...       ...\n",
            "2023-11-06  0.002298 -0.004307 -0.007823  0.004071  0.000418\n",
            "2023-11-07  0.002842  0.005023 -0.004154  0.009408  0.002965\n",
            "2023-11-08  0.000732  0.003145 -0.010018  0.000644 -0.000139\n",
            "2023-11-09 -0.007829 -0.007449  0.003975 -0.007725 -0.008551\n",
            "2023-11-10  0.015484  0.001867 -0.010970  0.022233  0.014778\n",
            "\n",
            "[3771 rows x 5 columns]\n"
          ]
        }
      ]
    },
    {
      "cell_type": "markdown",
      "source": [
        "## Create a function that will help us calculate portfolio expected returns"
      ],
      "metadata": {
        "id": "g_e2QCzn8CXH"
      }
    },
    {
      "cell_type": "code",
      "source": [
        "#We are assuming that future returns are based on past returns, which is not a reliable assumption\n",
        "\n",
        "def expected_return(weights, log_returns):\n",
        "  return np.sum(log_returns.mean()*weights)"
      ],
      "metadata": {
        "id": "9Bflc6W-v74D"
      },
      "execution_count": 22,
      "outputs": []
    },
    {
      "cell_type": "code",
      "source": [
        "#Create a function that will used to calculate portfolio standard deviation\n",
        "\n",
        "def standard_deviation (weights, cov_matrix):\n",
        "  variance = weights.T @ cov_matrix @ weights\n",
        "  return np.sqrt(variance)"
      ],
      "metadata": {
        "id": "84lldijM1l2g"
      },
      "execution_count": 23,
      "outputs": []
    },
    {
      "cell_type": "markdown",
      "source": [
        "## Create a covariance matrix for all the securities"
      ],
      "metadata": {
        "id": "rXZ7n7A97inM"
      }
    },
    {
      "cell_type": "code",
      "source": [
        "cov_matrix = log_returns.cov()\n",
        "print(cov_matrix)"
      ],
      "metadata": {
        "colab": {
          "base_uri": "https://localhost:8080/"
        },
        "id": "Etets3XT3vC0",
        "outputId": "a5f900df-7456-4fe9-f138-98176258f8b5"
      },
      "execution_count": 26,
      "outputs": [
        {
          "output_type": "stream",
          "name": "stdout",
          "text": [
            "          SPY           BND       GLD           QQQ       VTI\n",
            "SPY  0.000140 -1.305954e-06  0.000008  1.483928e-04  0.000143\n",
            "BND -0.000001  9.373210e-06  0.000009 -5.133101e-07 -0.000001\n",
            "GLD  0.000008  8.536693e-06  0.000105  8.007137e-06  0.000009\n",
            "QQQ  0.000148 -5.133101e-07  0.000008  1.826637e-04  0.000151\n",
            "VTI  0.000143 -1.175289e-06  0.000009  1.514537e-04  0.000146\n"
          ]
        }
      ]
    },
    {
      "cell_type": "markdown",
      "source": [
        "## Create an equally weighted portfolio and find total portfolio"
      ],
      "metadata": {
        "id": "blQd50qJ6p_R"
      }
    },
    {
      "cell_type": "code",
      "source": [
        "portfolio_value = 100000\n",
        "weights = np.array([1/len(tickers)]*len(tickers))\n",
        "portfolio_expected_return = expected_return(weights, log_returns)\n",
        "portfolio_std_dev = standard_deviation (weights, cov_matrix)"
      ],
      "metadata": {
        "id": "GzDko7oz4Nlx"
      },
      "execution_count": 27,
      "outputs": []
    },
    {
      "cell_type": "markdown",
      "source": [
        "## Create a function that gives a random Z-score based on normal distribution"
      ],
      "metadata": {
        "id": "wLrge7Zk7OvQ"
      }
    },
    {
      "cell_type": "code",
      "source": [
        "def random_z_score():\n",
        "  return np.random.normal(0,1)"
      ],
      "metadata": {
        "id": "_N5g99yW6ZYg"
      },
      "execution_count": 28,
      "outputs": []
    },
    {
      "cell_type": "markdown",
      "source": [
        "## Create a function to calculate scenario Gain/Loss"
      ],
      "metadata": {
        "id": "__Yc04Av8JNn"
      }
    },
    {
      "cell_type": "code",
      "source": [
        "days = 15\n",
        "\n",
        "def scenario_gain_loss(portfolio_value, portfolio_std_dev, z_score, days):\n",
        "  return portfolio_value * portfolio_expected_return * days + portfolio_value * portfolio_std_dev * z_score * np.sqrt(days)"
      ],
      "metadata": {
        "id": "38saeQ5o9Ghj"
      },
      "execution_count": 39,
      "outputs": []
    },
    {
      "cell_type": "markdown",
      "source": [
        "## Run 10000 simulations"
      ],
      "metadata": {
        "id": "ahYTClpw-jla"
      }
    },
    {
      "cell_type": "code",
      "source": [
        "simulations = 10000\n",
        "scenarioReturn = []\n",
        "\n",
        "for i in range(simulations):\n",
        "  z_score = random_z_score()\n",
        "  scenarioReturn.append(scenario_gain_loss(portfolio_value, portfolio_std_dev, z_score, days))"
      ],
      "metadata": {
        "id": "HWCKWSVh-oCp"
      },
      "execution_count": 40,
      "outputs": []
    },
    {
      "cell_type": "markdown",
      "source": [
        "## Specify a confidence interval and calculatr VaR"
      ],
      "metadata": {
        "id": "pkcqVTmmAFW2"
      }
    },
    {
      "cell_type": "code",
      "source": [
        "confidence_interval = 0.95\n",
        "VaR = np.percentile(scenarioReturn, 100*(1 - confidence_interval))\n",
        "print(VaR)"
      ],
      "metadata": {
        "colab": {
          "base_uri": "https://localhost:8080/"
        },
        "id": "3EX9GR7iASGy",
        "outputId": "144aaac0-09ca-4e6f-eca2-264152e145af"
      },
      "execution_count": 42,
      "outputs": [
        {
          "output_type": "stream",
          "name": "stdout",
          "text": [
            "-1238.6705041617242\n"
          ]
        }
      ]
    },
    {
      "cell_type": "markdown",
      "source": [
        "## Plot the results of all 10000 scenarios"
      ],
      "metadata": {
        "id": "Bz_imyPFBccJ"
      }
    },
    {
      "cell_type": "code",
      "source": [
        "plt.hist(scenarioReturn, bins=50, density=True)\n",
        "plt.xlabel('Scenario Gain/Loss (€)')\n",
        "plt.ylabel('Frecuency')\n",
        "plt.title('Distribution of Portfolio Gain/Loss Over {days} Days')\n",
        "plt.axvline(-VaR, color='r', linestyle='dashed', linewidth=2, label=f'Var at {confidence_interval:.0%} confidence level')\n",
        "plt.legend()\n",
        "plt.show()"
      ],
      "metadata": {
        "colab": {
          "base_uri": "https://localhost:8080/",
          "height": 472
        },
        "id": "Su0S747rBkWT",
        "outputId": "85b5dab6-3f3e-419d-f178-5076ec70874e"
      },
      "execution_count": 43,
      "outputs": [
        {
          "output_type": "display_data",
          "data": {
            "text/plain": [
              "<Figure size 640x480 with 1 Axes>"
            ],
            "image/png": "[encoded data removed]"
          },
          "metadata": {}
        }
      ]
    }
  ]
}