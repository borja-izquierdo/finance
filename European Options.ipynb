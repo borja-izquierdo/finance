{
  "nbformat": 4,
  "nbformat_minor": 0,
  "metadata": {
    "colab": {
      "provenance": [],
      "authorship_tag": "ABX9TyNN/dt5+OcdaTmhE9d6Du8i",
      "include_colab_link": true
    },
    "kernelspec": {
      "name": "python3",
      "display_name": "Python 3"
    },
    "language_info": {
      "name": "python"
    }
  },
  "cells": [
    {
      "cell_type": "markdown",
      "metadata": {
        "id": "view-in-github",
        "colab_type": "text"
      },
      "source": [
        "<a href=\"https://colab.research.google.com/github/borja-izquierdo/portfolio/blob/main/European%20Options.ipynb\" target=\"_parent\"><img src=\"https://colab.research.google.com/assets/colab-badge.svg\" alt=\"Open In Colab\"/></a>"
      ]
    },
    {
      "cell_type": "markdown",
      "source": [
        "Importing libraries\n"
      ],
      "metadata": {
        "id": "4-qglSacHy1g"
      }
    },
    {
      "cell_type": "code",
      "execution_count": 1,
      "metadata": {
        "id": "6UJN6JVKG7us"
      },
      "outputs": [],
      "source": [
        "import math\n",
        "import numpy as np"
      ]
    },
    {
      "cell_type": "markdown",
      "source": [
        "Parameters values"
      ],
      "metadata": {
        "id": "Y2loQUrjH4vx"
      }
    },
    {
      "cell_type": "code",
      "source": [
        "S0 = 100\n",
        "K = 105\n",
        "T = 1\n",
        "r = 0.05\n",
        "sigma = 0.2"
      ],
      "metadata": {
        "id": "ufZgI2SnH8Wr"
      },
      "execution_count": 2,
      "outputs": []
    },
    {
      "cell_type": "code",
      "source": [
        "I = 100000"
      ],
      "metadata": {
        "id": "RJodl0iYIMj5"
      },
      "execution_count": 4,
      "outputs": []
    },
    {
      "cell_type": "markdown",
      "source": [
        " Seed value for the random number generator"
      ],
      "metadata": {
        "id": "MvmJ4TWUIqrq"
      }
    },
    {
      "cell_type": "code",
      "source": [
        "np.random.seed(1000)"
      ],
      "metadata": {
        "id": "edDIHa-LIjj2"
      },
      "execution_count": 5,
      "outputs": []
    },
    {
      "cell_type": "markdown",
      "source": [
        "Standard normally distributed random numbers"
      ],
      "metadata": {
        "id": "qEBpY26WI1Dv"
      }
    },
    {
      "cell_type": "code",
      "source": [
        "z = np.random.standard_normal(I)"
      ],
      "metadata": {
        "id": "jem_ggw-JHBV"
      },
      "execution_count": 8,
      "outputs": []
    },
    {
      "cell_type": "code",
      "source": [
        "from PIL import Image\n",
        "img = Image.open('Black-Scholes-Merton.png')\n",
        "display(img)"
      ],
      "metadata": {
        "colab": {
          "base_uri": "https://localhost:8080/",
          "height": 150
        },
        "id": "i-pV9OlbKjQ8",
        "outputId": "80f9d9b4-7a89-4aa4-feb8-5d1e4700ea2e"
      },
      "execution_count": 11,
      "outputs": [
        {
          "output_type": "display_data",
          "data": {
            "text/plain": [
              "<PIL.PngImagePlugin.PngImageFile image mode=RGBA size=459x133>"
            ],
            "image/png": "[encoded data removed]"
          },
          "metadata": {}
        }
      ]
    },
    {
      "cell_type": "markdown",
      "source": [
        "End-of-period values are simulated"
      ],
      "metadata": {
        "id": "rHpNzal2KJaB"
      }
    },
    {
      "cell_type": "code",
      "source": [
        "ST = S0 * np.exp((r - sigma ** 2/2)* T + sigma * math.sqrt(T) * z)"
      ],
      "metadata": {
        "id": "IzrDVXj0JuVS"
      },
      "execution_count": 9,
      "outputs": []
    },
    {
      "cell_type": "markdown",
      "source": [
        "The option payoffs at maturity are calculated"
      ],
      "metadata": {
        "id": "71DgpPa7L-S5"
      }
    },
    {
      "cell_type": "code",
      "source": [
        "hT = np.maximum(ST - K, 0)"
      ],
      "metadata": {
        "id": "rbDZzF6zL1HQ"
      },
      "execution_count": null,
      "outputs": []
    },
    {
      "cell_type": "markdown",
      "source": [
        "The Monte Carlo estimator is evaluated"
      ],
      "metadata": {
        "id": "d7q1Ma0pNe9o"
      }
    },
    {
      "cell_type": "code",
      "source": [],
      "metadata": {
        "id": "8FLOJePzNcvL"
      },
      "execution_count": null,
      "outputs": []
    }
  ]
}