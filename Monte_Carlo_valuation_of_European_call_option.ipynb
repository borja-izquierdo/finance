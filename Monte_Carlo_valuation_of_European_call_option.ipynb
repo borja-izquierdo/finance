{
  "nbformat": 4,
  "nbformat_minor": 0,
  "metadata": {
    "colab": {
      "provenance": [],
      "authorship_tag": "ABX9TyMFH6mS/og4BmV5xHvlwMj+",
      "include_colab_link": true
    },
    "kernelspec": {
      "name": "python3",
      "display_name": "Python 3"
    },
    "language_info": {
      "name": "python"
    }
  },
  "cells": [
    {
      "cell_type": "markdown",
      "metadata": {
        "id": "view-in-github",
        "colab_type": "text"
      },
      "source": [
        "<a href=\"https://colab.research.google.com/github/borja-izquierdo/portfolio/blob/main/Monte_Carlo_valuation_of_European_call_option.ipynb\" target=\"_parent\"><img src=\"https://colab.research.google.com/assets/colab-badge.svg\" alt=\"Open In Colab\"/></a>"
      ]
    },
    {
      "cell_type": "markdown",
      "source": [
        "# Monte Carlo valuation of European call option in Black-Scholes-Merton model\n"
      ],
      "metadata": {
        "id": "SKClCFPsuzKK"
      }
    },
    {
      "cell_type": "markdown",
      "source": [
        "## Importing libraries\n"
      ],
      "metadata": {
        "id": "4-qglSacHy1g"
      }
    },
    {
      "cell_type": "code",
      "execution_count": null,
      "metadata": {
        "id": "6UJN6JVKG7us"
      },
      "outputs": [],
      "source": [
        "import math\n",
        "import numpy as np"
      ]
    },
    {
      "cell_type": "markdown",
      "source": [
        "## Parameters values"
      ],
      "metadata": {
        "id": "Y2loQUrjH4vx"
      }
    },
    {
      "cell_type": "code",
      "source": [
        "S0 = 100 #intital index value\n",
        "K = 105  #strike price\n",
        "T = 1    #time-to-maturity\n",
        "r = 0.05 #riskless short rate\n",
        "sigma = 0.2 #volatility"
      ],
      "metadata": {
        "id": "ufZgI2SnH8Wr"
      },
      "execution_count": null,
      "outputs": []
    },
    {
      "cell_type": "code",
      "source": [
        "I = 100000 #number of simulations"
      ],
      "metadata": {
        "id": "RJodl0iYIMj5"
      },
      "execution_count": null,
      "outputs": []
    },
    {
      "cell_type": "markdown",
      "source": [
        "## Valuation Algorithm"
      ],
      "metadata": {
        "id": "EMb-uEkYvGLw"
      }
    },
    {
      "cell_type": "code",
      "source": [
        "z = np.random.standard_normal(I) #pseudo-random-numbers"
      ],
      "metadata": {
        "id": "jem_ggw-JHBV"
      },
      "execution_count": null,
      "outputs": []
    },
    {
      "cell_type": "markdown",
      "source": [
        "Index values at maturity\n"
      ],
      "metadata": {
        "id": "rHpNzal2KJaB"
      }
    },
    {
      "cell_type": "code",
      "source": [
        "from PIL import Image\n",
        "img = Image.open('Black-Scholes-Merton.png')\n",
        "display(img)"
      ],
      "metadata": {
        "colab": {
          "base_uri": "https://localhost:8080/",
          "height": 167
        },
        "id": "i-pV9OlbKjQ8",
        "outputId": "88e4ec7f-0e18-40a1-f884-2ac0373890be"
      },
      "execution_count": 10,
      "outputs": [
        {
          "output_type": "display_data",
          "data": {
            "text/plain": [
              "<PIL.PngImagePlugin.PngImageFile image mode=RGBA size=603x150>"
            ],
            "image/png": "[encoded data removed]"
          },
          "metadata": {}
        }
      ]
    },
    {
      "cell_type": "code",
      "source": [
        "ST = S0 * np.exp((r - sigma ** 2/2)* T + sigma * math.sqrt(T) * z)"
      ],
      "metadata": {
        "id": "IzrDVXj0JuVS"
      },
      "execution_count": null,
      "outputs": []
    },
    {
      "cell_type": "code",
      "source": [
        "hT = np.maximum(ST - K, 0) #payoff at maturity"
      ],
      "metadata": {
        "id": "rbDZzF6zL1HQ"
      },
      "execution_count": null,
      "outputs": []
    },
    {
      "cell_type": "markdown",
      "source": [
        "Monte Carlo estimator"
      ],
      "metadata": {
        "id": "d7q1Ma0pNe9o"
      }
    },
    {
      "cell_type": "code",
      "source": [
        "from PIL import Image\n",
        "img = Image.open('Monte Carlo estimator for European option.png')\n",
        "display(img)"
      ],
      "metadata": {
        "colab": {
          "base_uri": "https://localhost:8080/",
          "height": 174
        },
        "id": "ORy1v0ll06Vt",
        "outputId": "ae0d346f-157b-4bd7-c7ba-9c60d29ed43c"
      },
      "execution_count": 11,
      "outputs": [
        {
          "output_type": "display_data",
          "data": {
            "text/plain": [
              "<PIL.PngImagePlugin.PngImageFile image mode=RGBA size=399x157>"
            ],
            "image/png": "[encoded data removed]"
          },
          "metadata": {}
        }
      ]
    },
    {
      "cell_type": "code",
      "source": [
        "C0 = math.exp(-r * T)* np.mean(hT)"
      ],
      "metadata": {
        "id": "8FLOJePzNcvL"
      },
      "execution_count": null,
      "outputs": []
    },
    {
      "cell_type": "markdown",
      "source": [
        "## Result"
      ],
      "metadata": {
        "id": "ahIRfxo2vyQs"
      }
    },
    {
      "cell_type": "code",
      "source": [
        "print('Value of the European call option %5.3f.'%C0)"
      ],
      "metadata": {
        "colab": {
          "base_uri": "https://localhost:8080/"
        },
        "id": "tR_pvOZJv1C7",
        "outputId": "f075ecba-5d17-46bb-eb99-2f929188c740"
      },
      "execution_count": null,
      "outputs": [
        {
          "output_type": "stream",
          "name": "stdout",
          "text": [
            "Value of the European call option 7.918.\n"
          ]
        }
      ]
    }
  ]
}